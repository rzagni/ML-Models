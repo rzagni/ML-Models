{
  "cells": [
    {
      "cell_type": "markdown",
      "id": "c885eb43-47b3-4367-83fd-0445fe807f0a",
      "metadata": {
        "id": "c885eb43-47b3-4367-83fd-0445fe807f0a"
      },
      "source": [
        "[![Open in Google Colab](https://colab.research.google.com/assets/colab-badge.svg)](https://colab.research.google.com/github/rzagni/ML-Models/blob/main/single-layer-multiclass-classification-nn.ipynb)\n"
      ]
    },
    {
      "cell_type": "code",
      "execution_count": 157,
      "id": "a423b61f-25e4-4735-ab4e-682a96b00092",
      "metadata": {
        "scrolled": true,
        "colab": {
          "base_uri": "https://localhost:8080/"
        },
        "id": "a423b61f-25e4-4735-ab4e-682a96b00092",
        "outputId": "2c6ebf08-3d0b-4976-b37a-1c9f0486e309"
      },
      "outputs": [
        {
          "output_type": "stream",
          "name": "stdout",
          "text": [
            "Requirement already satisfied: numpy in /usr/local/lib/python3.10/dist-packages (1.26.4)\n",
            "Requirement already satisfied: pandas in /usr/local/lib/python3.10/dist-packages (2.2.2)\n",
            "Requirement already satisfied: matplotlib in /usr/local/lib/python3.10/dist-packages (3.7.1)\n",
            "Requirement already satisfied: python-dateutil>=2.8.2 in /usr/local/lib/python3.10/dist-packages (from pandas) (2.8.2)\n",
            "Requirement already satisfied: pytz>=2020.1 in /usr/local/lib/python3.10/dist-packages (from pandas) (2024.2)\n",
            "Requirement already satisfied: tzdata>=2022.7 in /usr/local/lib/python3.10/dist-packages (from pandas) (2024.2)\n",
            "Requirement already satisfied: contourpy>=1.0.1 in /usr/local/lib/python3.10/dist-packages (from matplotlib) (1.3.0)\n",
            "Requirement already satisfied: cycler>=0.10 in /usr/local/lib/python3.10/dist-packages (from matplotlib) (0.12.1)\n",
            "Requirement already satisfied: fonttools>=4.22.0 in /usr/local/lib/python3.10/dist-packages (from matplotlib) (4.54.1)\n",
            "Requirement already satisfied: kiwisolver>=1.0.1 in /usr/local/lib/python3.10/dist-packages (from matplotlib) (1.4.7)\n",
            "Requirement already satisfied: packaging>=20.0 in /usr/local/lib/python3.10/dist-packages (from matplotlib) (24.1)\n",
            "Requirement already satisfied: pillow>=6.2.0 in /usr/local/lib/python3.10/dist-packages (from matplotlib) (10.4.0)\n",
            "Requirement already satisfied: pyparsing>=2.3.1 in /usr/local/lib/python3.10/dist-packages (from matplotlib) (3.2.0)\n",
            "Requirement already satisfied: six>=1.5 in /usr/local/lib/python3.10/dist-packages (from python-dateutil>=2.8.2->pandas) (1.16.0)\n"
          ]
        }
      ],
      "source": [
        "!pip install numpy pandas matplotlib"
      ]
    },
    {
      "cell_type": "code",
      "execution_count": 158,
      "id": "c9f4e610-070e-4733-bc87-7c2452e780ea",
      "metadata": {
        "colab": {
          "base_uri": "https://localhost:8080/"
        },
        "id": "c9f4e610-070e-4733-bc87-7c2452e780ea",
        "outputId": "09465f91-f3d2-46a7-e45a-648f10b2a9a2"
      },
      "outputs": [
        {
          "output_type": "stream",
          "name": "stdout",
          "text": [
            "Requirement already satisfied: ucimlrepo in /usr/local/lib/python3.10/dist-packages (0.0.7)\n",
            "Requirement already satisfied: pandas>=1.0.0 in /usr/local/lib/python3.10/dist-packages (from ucimlrepo) (2.2.2)\n",
            "Requirement already satisfied: certifi>=2020.12.5 in /usr/local/lib/python3.10/dist-packages (from ucimlrepo) (2024.8.30)\n",
            "Requirement already satisfied: numpy>=1.22.4 in /usr/local/lib/python3.10/dist-packages (from pandas>=1.0.0->ucimlrepo) (1.26.4)\n",
            "Requirement already satisfied: python-dateutil>=2.8.2 in /usr/local/lib/python3.10/dist-packages (from pandas>=1.0.0->ucimlrepo) (2.8.2)\n",
            "Requirement already satisfied: pytz>=2020.1 in /usr/local/lib/python3.10/dist-packages (from pandas>=1.0.0->ucimlrepo) (2024.2)\n",
            "Requirement already satisfied: tzdata>=2022.7 in /usr/local/lib/python3.10/dist-packages (from pandas>=1.0.0->ucimlrepo) (2024.2)\n",
            "Requirement already satisfied: six>=1.5 in /usr/local/lib/python3.10/dist-packages (from python-dateutil>=2.8.2->pandas>=1.0.0->ucimlrepo) (1.16.0)\n"
          ]
        }
      ],
      "source": [
        "!pip install ucimlrepo"
      ]
    },
    {
      "cell_type": "code",
      "source": [
        "import numpy as np\n",
        "import pandas as pd"
      ],
      "metadata": {
        "id": "KtY7XNjexlok"
      },
      "id": "KtY7XNjexlok",
      "execution_count": 159,
      "outputs": []
    },
    {
      "cell_type": "code",
      "source": [
        "from ucimlrepo import fetch_ucirepo\n",
        "iris = fetch_ucirepo(id=53)"
      ],
      "metadata": {
        "id": "S5g_573CwYel"
      },
      "id": "S5g_573CwYel",
      "execution_count": 160,
      "outputs": []
    },
    {
      "cell_type": "code",
      "source": [
        "iris.data"
      ],
      "metadata": {
        "id": "J-lRHMRXw7ZE",
        "outputId": "56da5305-0cf7-4db7-b876-93f39798a236",
        "colab": {
          "base_uri": "https://localhost:8080/"
        }
      },
      "id": "J-lRHMRXw7ZE",
      "execution_count": 161,
      "outputs": [
        {
          "output_type": "execute_result",
          "data": {
            "text/plain": [
              "{'ids': None,\n",
              " 'features':      sepal length  sepal width  petal length  petal width\n",
              " 0             5.1          3.5           1.4          0.2\n",
              " 1             4.9          3.0           1.4          0.2\n",
              " 2             4.7          3.2           1.3          0.2\n",
              " 3             4.6          3.1           1.5          0.2\n",
              " 4             5.0          3.6           1.4          0.2\n",
              " ..            ...          ...           ...          ...\n",
              " 145           6.7          3.0           5.2          2.3\n",
              " 146           6.3          2.5           5.0          1.9\n",
              " 147           6.5          3.0           5.2          2.0\n",
              " 148           6.2          3.4           5.4          2.3\n",
              " 149           5.9          3.0           5.1          1.8\n",
              " \n",
              " [150 rows x 4 columns],\n",
              " 'targets':               class\n",
              " 0       Iris-setosa\n",
              " 1       Iris-setosa\n",
              " 2       Iris-setosa\n",
              " 3       Iris-setosa\n",
              " 4       Iris-setosa\n",
              " ..              ...\n",
              " 145  Iris-virginica\n",
              " 146  Iris-virginica\n",
              " 147  Iris-virginica\n",
              " 148  Iris-virginica\n",
              " 149  Iris-virginica\n",
              " \n",
              " [150 rows x 1 columns],\n",
              " 'original':      sepal length  sepal width  petal length  petal width           class\n",
              " 0             5.1          3.5           1.4          0.2     Iris-setosa\n",
              " 1             4.9          3.0           1.4          0.2     Iris-setosa\n",
              " 2             4.7          3.2           1.3          0.2     Iris-setosa\n",
              " 3             4.6          3.1           1.5          0.2     Iris-setosa\n",
              " 4             5.0          3.6           1.4          0.2     Iris-setosa\n",
              " ..            ...          ...           ...          ...             ...\n",
              " 145           6.7          3.0           5.2          2.3  Iris-virginica\n",
              " 146           6.3          2.5           5.0          1.9  Iris-virginica\n",
              " 147           6.5          3.0           5.2          2.0  Iris-virginica\n",
              " 148           6.2          3.4           5.4          2.3  Iris-virginica\n",
              " 149           5.9          3.0           5.1          1.8  Iris-virginica\n",
              " \n",
              " [150 rows x 5 columns],\n",
              " 'headers': Index(['sepal length', 'sepal width', 'petal length', 'petal width', 'class'], dtype='object')}"
            ]
          },
          "metadata": {},
          "execution_count": 161
        }
      ]
    },
    {
      "cell_type": "code",
      "source": [
        "iris_df = iris.data.original[0:100]"
      ],
      "metadata": {
        "id": "h0NyBYYhwpJ_"
      },
      "id": "h0NyBYYhwpJ_",
      "execution_count": 162,
      "outputs": []
    },
    {
      "cell_type": "code",
      "source": [
        "iris_df = iris_df.sample(frac=1, random_state=42).reset_index(drop=True)"
      ],
      "metadata": {
        "id": "tNve4D9UzHac"
      },
      "id": "tNve4D9UzHac",
      "execution_count": 163,
      "outputs": []
    },
    {
      "cell_type": "code",
      "source": [
        "iris_df"
      ],
      "metadata": {
        "id": "K_kyR8rGzXzq",
        "outputId": "e3fe352a-bcb5-4a10-d20e-3d67c23a9272",
        "colab": {
          "base_uri": "https://localhost:8080/",
          "height": 424
        }
      },
      "id": "K_kyR8rGzXzq",
      "execution_count": 164,
      "outputs": [
        {
          "output_type": "execute_result",
          "data": {
            "text/plain": [
              "    sepal length  sepal width  petal length  petal width            class\n",
              "0            6.0          2.7           5.1          1.6  Iris-versicolor\n",
              "1            5.5          2.3           4.0          1.3  Iris-versicolor\n",
              "2            5.9          3.2           4.8          1.8  Iris-versicolor\n",
              "3            4.8          3.0           1.4          0.3      Iris-setosa\n",
              "4            5.1          3.8           1.9          0.4      Iris-setosa\n",
              "..           ...          ...           ...          ...              ...\n",
              "95           5.0          2.0           3.5          1.0  Iris-versicolor\n",
              "96           6.1          2.8           4.0          1.3  Iris-versicolor\n",
              "97           5.8          4.0           1.2          0.2      Iris-setosa\n",
              "98           5.8          2.6           4.0          1.2  Iris-versicolor\n",
              "99           6.4          3.2           4.5          1.5  Iris-versicolor\n",
              "\n",
              "[100 rows x 5 columns]"
            ],
            "text/html": [
              "\n",
              "  <div id=\"df-43410207-74f2-42a7-9892-e3f9958cfcef\" class=\"colab-df-container\">\n",
              "    <div>\n",
              "<style scoped>\n",
              "    .dataframe tbody tr th:only-of-type {\n",
              "        vertical-align: middle;\n",
              "    }\n",
              "\n",
              "    .dataframe tbody tr th {\n",
              "        vertical-align: top;\n",
              "    }\n",
              "\n",
              "    .dataframe thead th {\n",
              "        text-align: right;\n",
              "    }\n",
              "</style>\n",
              "<table border=\"1\" class=\"dataframe\">\n",
              "  <thead>\n",
              "    <tr style=\"text-align: right;\">\n",
              "      <th></th>\n",
              "      <th>sepal length</th>\n",
              "      <th>sepal width</th>\n",
              "      <th>petal length</th>\n",
              "      <th>petal width</th>\n",
              "      <th>class</th>\n",
              "    </tr>\n",
              "  </thead>\n",
              "  <tbody>\n",
              "    <tr>\n",
              "      <th>0</th>\n",
              "      <td>6.0</td>\n",
              "      <td>2.7</td>\n",
              "      <td>5.1</td>\n",
              "      <td>1.6</td>\n",
              "      <td>Iris-versicolor</td>\n",
              "    </tr>\n",
              "    <tr>\n",
              "      <th>1</th>\n",
              "      <td>5.5</td>\n",
              "      <td>2.3</td>\n",
              "      <td>4.0</td>\n",
              "      <td>1.3</td>\n",
              "      <td>Iris-versicolor</td>\n",
              "    </tr>\n",
              "    <tr>\n",
              "      <th>2</th>\n",
              "      <td>5.9</td>\n",
              "      <td>3.2</td>\n",
              "      <td>4.8</td>\n",
              "      <td>1.8</td>\n",
              "      <td>Iris-versicolor</td>\n",
              "    </tr>\n",
              "    <tr>\n",
              "      <th>3</th>\n",
              "      <td>4.8</td>\n",
              "      <td>3.0</td>\n",
              "      <td>1.4</td>\n",
              "      <td>0.3</td>\n",
              "      <td>Iris-setosa</td>\n",
              "    </tr>\n",
              "    <tr>\n",
              "      <th>4</th>\n",
              "      <td>5.1</td>\n",
              "      <td>3.8</td>\n",
              "      <td>1.9</td>\n",
              "      <td>0.4</td>\n",
              "      <td>Iris-setosa</td>\n",
              "    </tr>\n",
              "    <tr>\n",
              "      <th>...</th>\n",
              "      <td>...</td>\n",
              "      <td>...</td>\n",
              "      <td>...</td>\n",
              "      <td>...</td>\n",
              "      <td>...</td>\n",
              "    </tr>\n",
              "    <tr>\n",
              "      <th>95</th>\n",
              "      <td>5.0</td>\n",
              "      <td>2.0</td>\n",
              "      <td>3.5</td>\n",
              "      <td>1.0</td>\n",
              "      <td>Iris-versicolor</td>\n",
              "    </tr>\n",
              "    <tr>\n",
              "      <th>96</th>\n",
              "      <td>6.1</td>\n",
              "      <td>2.8</td>\n",
              "      <td>4.0</td>\n",
              "      <td>1.3</td>\n",
              "      <td>Iris-versicolor</td>\n",
              "    </tr>\n",
              "    <tr>\n",
              "      <th>97</th>\n",
              "      <td>5.8</td>\n",
              "      <td>4.0</td>\n",
              "      <td>1.2</td>\n",
              "      <td>0.2</td>\n",
              "      <td>Iris-setosa</td>\n",
              "    </tr>\n",
              "    <tr>\n",
              "      <th>98</th>\n",
              "      <td>5.8</td>\n",
              "      <td>2.6</td>\n",
              "      <td>4.0</td>\n",
              "      <td>1.2</td>\n",
              "      <td>Iris-versicolor</td>\n",
              "    </tr>\n",
              "    <tr>\n",
              "      <th>99</th>\n",
              "      <td>6.4</td>\n",
              "      <td>3.2</td>\n",
              "      <td>4.5</td>\n",
              "      <td>1.5</td>\n",
              "      <td>Iris-versicolor</td>\n",
              "    </tr>\n",
              "  </tbody>\n",
              "</table>\n",
              "<p>100 rows × 5 columns</p>\n",
              "</div>\n",
              "    <div class=\"colab-df-buttons\">\n",
              "\n",
              "  <div class=\"colab-df-container\">\n",
              "    <button class=\"colab-df-convert\" onclick=\"convertToInteractive('df-43410207-74f2-42a7-9892-e3f9958cfcef')\"\n",
              "            title=\"Convert this dataframe to an interactive table.\"\n",
              "            style=\"display:none;\">\n",
              "\n",
              "  <svg xmlns=\"http://www.w3.org/2000/svg\" height=\"24px\" viewBox=\"0 -960 960 960\">\n",
              "    <path d=\"M120-120v-720h720v720H120Zm60-500h600v-160H180v160Zm220 220h160v-160H400v160Zm0 220h160v-160H400v160ZM180-400h160v-160H180v160Zm440 0h160v-160H620v160ZM180-180h160v-160H180v160Zm440 0h160v-160H620v160Z\"/>\n",
              "  </svg>\n",
              "    </button>\n",
              "\n",
              "  <style>\n",
              "    .colab-df-container {\n",
              "      display:flex;\n",
              "      gap: 12px;\n",
              "    }\n",
              "\n",
              "    .colab-df-convert {\n",
              "      background-color: #E8F0FE;\n",
              "      border: none;\n",
              "      border-radius: 50%;\n",
              "      cursor: pointer;\n",
              "      display: none;\n",
              "      fill: #1967D2;\n",
              "      height: 32px;\n",
              "      padding: 0 0 0 0;\n",
              "      width: 32px;\n",
              "    }\n",
              "\n",
              "    .colab-df-convert:hover {\n",
              "      background-color: #E2EBFA;\n",
              "      box-shadow: 0px 1px 2px rgba(60, 64, 67, 0.3), 0px 1px 3px 1px rgba(60, 64, 67, 0.15);\n",
              "      fill: #174EA6;\n",
              "    }\n",
              "\n",
              "    .colab-df-buttons div {\n",
              "      margin-bottom: 4px;\n",
              "    }\n",
              "\n",
              "    [theme=dark] .colab-df-convert {\n",
              "      background-color: #3B4455;\n",
              "      fill: #D2E3FC;\n",
              "    }\n",
              "\n",
              "    [theme=dark] .colab-df-convert:hover {\n",
              "      background-color: #434B5C;\n",
              "      box-shadow: 0px 1px 3px 1px rgba(0, 0, 0, 0.15);\n",
              "      filter: drop-shadow(0px 1px 2px rgba(0, 0, 0, 0.3));\n",
              "      fill: #FFFFFF;\n",
              "    }\n",
              "  </style>\n",
              "\n",
              "    <script>\n",
              "      const buttonEl =\n",
              "        document.querySelector('#df-43410207-74f2-42a7-9892-e3f9958cfcef button.colab-df-convert');\n",
              "      buttonEl.style.display =\n",
              "        google.colab.kernel.accessAllowed ? 'block' : 'none';\n",
              "\n",
              "      async function convertToInteractive(key) {\n",
              "        const element = document.querySelector('#df-43410207-74f2-42a7-9892-e3f9958cfcef');\n",
              "        const dataTable =\n",
              "          await google.colab.kernel.invokeFunction('convertToInteractive',\n",
              "                                                    [key], {});\n",
              "        if (!dataTable) return;\n",
              "\n",
              "        const docLinkHtml = 'Like what you see? Visit the ' +\n",
              "          '<a target=\"_blank\" href=https://colab.research.google.com/notebooks/data_table.ipynb>data table notebook</a>'\n",
              "          + ' to learn more about interactive tables.';\n",
              "        element.innerHTML = '';\n",
              "        dataTable['output_type'] = 'display_data';\n",
              "        await google.colab.output.renderOutput(dataTable, element);\n",
              "        const docLink = document.createElement('div');\n",
              "        docLink.innerHTML = docLinkHtml;\n",
              "        element.appendChild(docLink);\n",
              "      }\n",
              "    </script>\n",
              "  </div>\n",
              "\n",
              "\n",
              "<div id=\"df-5498d93b-4164-4295-9ed0-e9d601d06b0f\">\n",
              "  <button class=\"colab-df-quickchart\" onclick=\"quickchart('df-5498d93b-4164-4295-9ed0-e9d601d06b0f')\"\n",
              "            title=\"Suggest charts\"\n",
              "            style=\"display:none;\">\n",
              "\n",
              "<svg xmlns=\"http://www.w3.org/2000/svg\" height=\"24px\"viewBox=\"0 0 24 24\"\n",
              "     width=\"24px\">\n",
              "    <g>\n",
              "        <path d=\"M19 3H5c-1.1 0-2 .9-2 2v14c0 1.1.9 2 2 2h14c1.1 0 2-.9 2-2V5c0-1.1-.9-2-2-2zM9 17H7v-7h2v7zm4 0h-2V7h2v10zm4 0h-2v-4h2v4z\"/>\n",
              "    </g>\n",
              "</svg>\n",
              "  </button>\n",
              "\n",
              "<style>\n",
              "  .colab-df-quickchart {\n",
              "      --bg-color: #E8F0FE;\n",
              "      --fill-color: #1967D2;\n",
              "      --hover-bg-color: #E2EBFA;\n",
              "      --hover-fill-color: #174EA6;\n",
              "      --disabled-fill-color: #AAA;\n",
              "      --disabled-bg-color: #DDD;\n",
              "  }\n",
              "\n",
              "  [theme=dark] .colab-df-quickchart {\n",
              "      --bg-color: #3B4455;\n",
              "      --fill-color: #D2E3FC;\n",
              "      --hover-bg-color: #434B5C;\n",
              "      --hover-fill-color: #FFFFFF;\n",
              "      --disabled-bg-color: #3B4455;\n",
              "      --disabled-fill-color: #666;\n",
              "  }\n",
              "\n",
              "  .colab-df-quickchart {\n",
              "    background-color: var(--bg-color);\n",
              "    border: none;\n",
              "    border-radius: 50%;\n",
              "    cursor: pointer;\n",
              "    display: none;\n",
              "    fill: var(--fill-color);\n",
              "    height: 32px;\n",
              "    padding: 0;\n",
              "    width: 32px;\n",
              "  }\n",
              "\n",
              "  .colab-df-quickchart:hover {\n",
              "    background-color: var(--hover-bg-color);\n",
              "    box-shadow: 0 1px 2px rgba(60, 64, 67, 0.3), 0 1px 3px 1px rgba(60, 64, 67, 0.15);\n",
              "    fill: var(--button-hover-fill-color);\n",
              "  }\n",
              "\n",
              "  .colab-df-quickchart-complete:disabled,\n",
              "  .colab-df-quickchart-complete:disabled:hover {\n",
              "    background-color: var(--disabled-bg-color);\n",
              "    fill: var(--disabled-fill-color);\n",
              "    box-shadow: none;\n",
              "  }\n",
              "\n",
              "  .colab-df-spinner {\n",
              "    border: 2px solid var(--fill-color);\n",
              "    border-color: transparent;\n",
              "    border-bottom-color: var(--fill-color);\n",
              "    animation:\n",
              "      spin 1s steps(1) infinite;\n",
              "  }\n",
              "\n",
              "  @keyframes spin {\n",
              "    0% {\n",
              "      border-color: transparent;\n",
              "      border-bottom-color: var(--fill-color);\n",
              "      border-left-color: var(--fill-color);\n",
              "    }\n",
              "    20% {\n",
              "      border-color: transparent;\n",
              "      border-left-color: var(--fill-color);\n",
              "      border-top-color: var(--fill-color);\n",
              "    }\n",
              "    30% {\n",
              "      border-color: transparent;\n",
              "      border-left-color: var(--fill-color);\n",
              "      border-top-color: var(--fill-color);\n",
              "      border-right-color: var(--fill-color);\n",
              "    }\n",
              "    40% {\n",
              "      border-color: transparent;\n",
              "      border-right-color: var(--fill-color);\n",
              "      border-top-color: var(--fill-color);\n",
              "    }\n",
              "    60% {\n",
              "      border-color: transparent;\n",
              "      border-right-color: var(--fill-color);\n",
              "    }\n",
              "    80% {\n",
              "      border-color: transparent;\n",
              "      border-right-color: var(--fill-color);\n",
              "      border-bottom-color: var(--fill-color);\n",
              "    }\n",
              "    90% {\n",
              "      border-color: transparent;\n",
              "      border-bottom-color: var(--fill-color);\n",
              "    }\n",
              "  }\n",
              "</style>\n",
              "\n",
              "  <script>\n",
              "    async function quickchart(key) {\n",
              "      const quickchartButtonEl =\n",
              "        document.querySelector('#' + key + ' button');\n",
              "      quickchartButtonEl.disabled = true;  // To prevent multiple clicks.\n",
              "      quickchartButtonEl.classList.add('colab-df-spinner');\n",
              "      try {\n",
              "        const charts = await google.colab.kernel.invokeFunction(\n",
              "            'suggestCharts', [key], {});\n",
              "      } catch (error) {\n",
              "        console.error('Error during call to suggestCharts:', error);\n",
              "      }\n",
              "      quickchartButtonEl.classList.remove('colab-df-spinner');\n",
              "      quickchartButtonEl.classList.add('colab-df-quickchart-complete');\n",
              "    }\n",
              "    (() => {\n",
              "      let quickchartButtonEl =\n",
              "        document.querySelector('#df-5498d93b-4164-4295-9ed0-e9d601d06b0f button');\n",
              "      quickchartButtonEl.style.display =\n",
              "        google.colab.kernel.accessAllowed ? 'block' : 'none';\n",
              "    })();\n",
              "  </script>\n",
              "</div>\n",
              "\n",
              "  <div id=\"id_af8550d2-dc87-482a-8f7d-1992f7c0059d\">\n",
              "    <style>\n",
              "      .colab-df-generate {\n",
              "        background-color: #E8F0FE;\n",
              "        border: none;\n",
              "        border-radius: 50%;\n",
              "        cursor: pointer;\n",
              "        display: none;\n",
              "        fill: #1967D2;\n",
              "        height: 32px;\n",
              "        padding: 0 0 0 0;\n",
              "        width: 32px;\n",
              "      }\n",
              "\n",
              "      .colab-df-generate:hover {\n",
              "        background-color: #E2EBFA;\n",
              "        box-shadow: 0px 1px 2px rgba(60, 64, 67, 0.3), 0px 1px 3px 1px rgba(60, 64, 67, 0.15);\n",
              "        fill: #174EA6;\n",
              "      }\n",
              "\n",
              "      [theme=dark] .colab-df-generate {\n",
              "        background-color: #3B4455;\n",
              "        fill: #D2E3FC;\n",
              "      }\n",
              "\n",
              "      [theme=dark] .colab-df-generate:hover {\n",
              "        background-color: #434B5C;\n",
              "        box-shadow: 0px 1px 3px 1px rgba(0, 0, 0, 0.15);\n",
              "        filter: drop-shadow(0px 1px 2px rgba(0, 0, 0, 0.3));\n",
              "        fill: #FFFFFF;\n",
              "      }\n",
              "    </style>\n",
              "    <button class=\"colab-df-generate\" onclick=\"generateWithVariable('iris_df')\"\n",
              "            title=\"Generate code using this dataframe.\"\n",
              "            style=\"display:none;\">\n",
              "\n",
              "  <svg xmlns=\"http://www.w3.org/2000/svg\" height=\"24px\"viewBox=\"0 0 24 24\"\n",
              "       width=\"24px\">\n",
              "    <path d=\"M7,19H8.4L18.45,9,17,7.55,7,17.6ZM5,21V16.75L18.45,3.32a2,2,0,0,1,2.83,0l1.4,1.43a1.91,1.91,0,0,1,.58,1.4,1.91,1.91,0,0,1-.58,1.4L9.25,21ZM18.45,9,17,7.55Zm-12,3A5.31,5.31,0,0,0,4.9,8.1,5.31,5.31,0,0,0,1,6.5,5.31,5.31,0,0,0,4.9,4.9,5.31,5.31,0,0,0,6.5,1,5.31,5.31,0,0,0,8.1,4.9,5.31,5.31,0,0,0,12,6.5,5.46,5.46,0,0,0,6.5,12Z\"/>\n",
              "  </svg>\n",
              "    </button>\n",
              "    <script>\n",
              "      (() => {\n",
              "      const buttonEl =\n",
              "        document.querySelector('#id_af8550d2-dc87-482a-8f7d-1992f7c0059d button.colab-df-generate');\n",
              "      buttonEl.style.display =\n",
              "        google.colab.kernel.accessAllowed ? 'block' : 'none';\n",
              "\n",
              "      buttonEl.onclick = () => {\n",
              "        google.colab.notebook.generateWithVariable('iris_df');\n",
              "      }\n",
              "      })();\n",
              "    </script>\n",
              "  </div>\n",
              "\n",
              "    </div>\n",
              "  </div>\n"
            ],
            "application/vnd.google.colaboratory.intrinsic+json": {
              "type": "dataframe",
              "variable_name": "iris_df",
              "summary": "{\n  \"name\": \"iris_df\",\n  \"rows\": 100,\n  \"fields\": [\n    {\n      \"column\": \"sepal length\",\n      \"properties\": {\n        \"dtype\": \"number\",\n        \"std\": 0.6416983463254113,\n        \"min\": 4.3,\n        \"max\": 7.0,\n        \"num_unique_values\": 28,\n        \"samples\": [\n          5.0,\n          4.7,\n          6.1\n        ],\n        \"semantic_type\": \"\",\n        \"description\": \"\"\n      }\n    },\n    {\n      \"column\": \"sepal width\",\n      \"properties\": {\n        \"dtype\": \"number\",\n        \"std\": 0.47605703758090073,\n        \"min\": 2.0,\n        \"max\": 4.4,\n        \"num_unique_values\": 23,\n        \"samples\": [\n          4.4,\n          3.5,\n          2.7\n        ],\n        \"semantic_type\": \"\",\n        \"description\": \"\"\n      }\n    },\n    {\n      \"column\": \"petal length\",\n      \"properties\": {\n        \"dtype\": \"number\",\n        \"std\": 1.4485645977792616,\n        \"min\": 1.0,\n        \"max\": 5.1,\n        \"num_unique_values\": 28,\n        \"samples\": [\n          1.6,\n          4.3,\n          1.7\n        ],\n        \"semantic_type\": \"\",\n        \"description\": \"\"\n      }\n    },\n    {\n      \"column\": \"petal width\",\n      \"properties\": {\n        \"dtype\": \"number\",\n        \"std\": 0.5662877521029553,\n        \"min\": 0.1,\n        \"max\": 1.8,\n        \"num_unique_values\": 15,\n        \"samples\": [\n          1.7,\n          1.5,\n          1.6\n        ],\n        \"semantic_type\": \"\",\n        \"description\": \"\"\n      }\n    },\n    {\n      \"column\": \"class\",\n      \"properties\": {\n        \"dtype\": \"category\",\n        \"num_unique_values\": 2,\n        \"samples\": [\n          \"Iris-setosa\",\n          \"Iris-versicolor\"\n        ],\n        \"semantic_type\": \"\",\n        \"description\": \"\"\n      }\n    }\n  ]\n}"
            }
          },
          "metadata": {},
          "execution_count": 164
        }
      ]
    },
    {
      "cell_type": "code",
      "source": [
        "X = iris_df[['sepal length', 'petal length']]\n",
        "y = [0 if label == \"Iris-setosa\" else 1 for label in iris_df['class']]"
      ],
      "metadata": {
        "id": "0Zy4QJryxBX3"
      },
      "id": "0Zy4QJryxBX3",
      "execution_count": 165,
      "outputs": []
    },
    {
      "cell_type": "code",
      "source": [
        "np.random.seed(42)\n",
        "w1 = np.random.rand() * 0.01\n",
        "w2 = np.random.rand() * 0.01\n",
        "b = 0.0"
      ],
      "metadata": {
        "id": "fjYf-0kixKhK"
      },
      "id": "fjYf-0kixKhK",
      "execution_count": 166,
      "outputs": []
    },
    {
      "cell_type": "code",
      "source": [
        "w1"
      ],
      "metadata": {
        "id": "cL6XvwTZ2tik",
        "outputId": "d257bec6-63f9-49f3-fb55-7b23fec6ad9c",
        "colab": {
          "base_uri": "https://localhost:8080/"
        }
      },
      "id": "cL6XvwTZ2tik",
      "execution_count": 167,
      "outputs": [
        {
          "output_type": "execute_result",
          "data": {
            "text/plain": [
              "0.003745401188473625"
            ]
          },
          "metadata": {},
          "execution_count": 167
        }
      ]
    },
    {
      "cell_type": "code",
      "source": [
        "Z = 0.0\n",
        "np.random.seed(42)\n",
        "#w1 = np.random.rand() * 0.001\n",
        "#w2 = np.random.rand() * 0.001\n",
        "w1 = 0.0\n",
        "w2 = 0.0\n",
        "b = 0.0\n",
        "learning_rate = 0.001\n",
        "\n",
        "for epoch in range(100):\n",
        "    for i in range(len(X)):\n",
        "        Z = w1 * X['sepal length'][i] + w2 * X['petal length'][i] + b\n",
        "\n",
        "        # Correct the logic for y_hat\n",
        "        y_hat = 0 if Z > 0 else 1\n",
        "\n",
        "        grad = y[i] - y_hat\n",
        "        w1 += learning_rate * grad * X['sepal length'][i]\n",
        "        w2 += learning_rate * grad * X['petal length'][i]\n",
        "        b += learning_rate * grad\n",
        "\n",
        "print(f\"Epoch: {epoch}, W1: {w1}, W2: {w2}, b: {b}\")"
      ],
      "metadata": {
        "id": "8wZ95Eerxid2",
        "outputId": "54a7538a-71dd-4b22-e1b4-2292275da8ed",
        "colab": {
          "base_uri": "https://localhost:8080/"
        }
      },
      "id": "8wZ95Eerxid2",
      "execution_count": 168,
      "outputs": [
        {
          "output_type": "stream",
          "name": "stdout",
          "text": [
            "Epoch: 99, W1: -25.029999999999582, W2: -7.319999999999936, b: -5.000000000000004\n"
          ]
        }
      ]
    },
    {
      "cell_type": "code",
      "source": [
        "# Assuming you have the DataFrame iris_df\n",
        "y = [0 if label == \"Iris-setosa\" else 1 for label in iris_df['class']]  # Adjust to the correct column\n",
        "\n",
        "Z = 0.0\n",
        "learning_rate = 0.001\n",
        "\n",
        "# Initialize weights and bias\n",
        "w1 = 0.0\n",
        "w2 = 0.0\n",
        "b = 0.0\n",
        "\n",
        "for epoch in range(100):\n",
        "    for i in range(len(X)):\n",
        "        Z = w1 * X['sepal length'][i] + w2 * X['petal length'][i] + b\n",
        "\n",
        "        y_hat = 0 if Z > 0 else 1\n",
        "\n",
        "        # Now this should work since y[i] is numeric\n",
        "        grad = y[i] - y_hat  # Ensure y[i] is an integer (0 or 1)\n",
        "        w1 += learning_rate * grad * X['sepal length'][i]\n",
        "        w2 += learning_rate * grad * X['petal length'][i]\n",
        "        b += learning_rate * grad\n",
        "\n",
        "print(f\"W1: {w1}, W2: {w2}, b: {b}\")"
      ],
      "metadata": {
        "id": "koi-Jinu4FbI",
        "outputId": "29062b64-5199-4d2c-add1-4a3f526c1cc1",
        "colab": {
          "base_uri": "https://localhost:8080/"
        }
      },
      "id": "koi-Jinu4FbI",
      "execution_count": 169,
      "outputs": [
        {
          "output_type": "stream",
          "name": "stdout",
          "text": [
            "W1: -25.029999999999582, W2: -7.319999999999936, b: -5.000000000000004\n"
          ]
        }
      ]
    },
    {
      "cell_type": "code",
      "source": [
        "# Convert y to binary values if not already done\n",
        "#y = (iris_df['target_column'] == 'Iris-setosa').astype(int)  # Adjust this as needed\n",
        "\n",
        "Z = 0.0\n",
        "learning_rate = 0.001\n",
        "\n",
        "# Initialize weights and bias\n",
        "w1 = 0.0\n",
        "w2 = 0.0\n",
        "b = 0.0\n",
        "\n",
        "for epoch in range(10):\n",
        "    for i in range(len(X)):\n",
        "        Z = w1 * X['sepal length'][i] + w2 * X['petal length'][i] + b\n",
        "        #print(f\"i: {i}, Z: {Z}\")\n",
        "\n",
        "        y_hat = 0 if Z > 0 else 1\n",
        "\n",
        "        # Now this should work since y[i] is numeric\n",
        "        grad = y[i] - y_hat\n",
        "        w1 += learning_rate * grad * X['sepal length'][i]\n",
        "        w2 += learning_rate * grad * X['petal length'][i]\n",
        "        b += learning_rate * grad\n",
        "\n",
        "    #print(f\"Epoch: {epoch}, W1: {w1}, W2: {w2}, b: {b}\")\n",
        "print(f\"W1: {w1}, W2: {w2}, b: {b}\")"
      ],
      "metadata": {
        "id": "UQCgh7_R_hlS",
        "outputId": "62fde9e7-f9c8-44f2-b585-91568a10eafb",
        "colab": {
          "base_uri": "https://localhost:8080/"
        }
      },
      "id": "UQCgh7_R_hlS",
      "execution_count": 170,
      "outputs": [
        {
          "output_type": "stream",
          "name": "stdout",
          "text": [
            "W1: -2.5029999999999966, W2: -0.7319999999999974, b: -0.5000000000000003\n"
          ]
        }
      ]
    },
    {
      "cell_type": "code",
      "source": [
        "def predict(X, y, w1, w2, b):\n",
        "    iris_classes = { 0:\"Iris-setosa\", 1:\"Iris-virginica\"}\n",
        "\n",
        "    Z = w1 * X['sepal length'] + w2 * X['petal length'] + b\n",
        "    y_hat = 0 if Z > 0 else 1\n",
        "\n",
        "    print(f\"Predicted: {iris_classes[y_hat]} - Actual: {iris_classes[y]}\")\n",
        ""
      ],
      "metadata": {
        "id": "1qY-m-5p6y2_"
      },
      "id": "1qY-m-5p6y2_",
      "execution_count": 171,
      "outputs": []
    },
    {
      "cell_type": "code",
      "source": [
        "X.iloc[0]['sepal length']"
      ],
      "metadata": {
        "id": "Z1LjyrvK89a0",
        "outputId": "19ed0410-891d-49cf-ff06-6158c21d71bc",
        "colab": {
          "base_uri": "https://localhost:8080/"
        }
      },
      "id": "Z1LjyrvK89a0",
      "execution_count": 172,
      "outputs": [
        {
          "output_type": "execute_result",
          "data": {
            "text/plain": [
              "6.0"
            ]
          },
          "metadata": {},
          "execution_count": 172
        }
      ]
    },
    {
      "cell_type": "code",
      "source": [
        "predict(X.iloc[91], y[91], w1, w2, b)"
      ],
      "metadata": {
        "id": "dZyUJ-ER9E0h",
        "outputId": "034e1dc8-4e06-45a4-be62-485554e50e0b",
        "colab": {
          "base_uri": "https://localhost:8080/"
        }
      },
      "id": "dZyUJ-ER9E0h",
      "execution_count": 173,
      "outputs": [
        {
          "output_type": "stream",
          "name": "stdout",
          "text": [
            "Predicted: Iris-virginica - Actual: Iris-virginica\n"
          ]
        }
      ]
    },
    {
      "cell_type": "code",
      "source": [],
      "metadata": {
        "id": "skG_PdnI9Hss"
      },
      "id": "skG_PdnI9Hss",
      "execution_count": 181,
      "outputs": []
    },
    {
      "cell_type": "code",
      "source": [
        "predict(X.iloc[91], y[91], w1, w2, b)"
      ],
      "metadata": {
        "id": "NRJTLclkElAl",
        "outputId": "e93276bc-f50d-4c78-9c9c-28f9ff78d9d4",
        "colab": {
          "base_uri": "https://localhost:8080/"
        }
      },
      "id": "NRJTLclkElAl",
      "execution_count": 175,
      "outputs": [
        {
          "output_type": "stream",
          "name": "stdout",
          "text": [
            "Predicted: Iris-virginica - Actual: Iris-virginica\n"
          ]
        }
      ]
    },
    {
      "cell_type": "code",
      "source": [
        "import numpy as np\n",
        "import pandas as pd\n",
        "from sklearn.preprocessing import StandardScaler\n",
        "\n",
        "\n",
        "# Load the iris dataset\n",
        "iris2 = fetch_ucirepo(id=53)\n",
        "iris2_df = iris_df = iris.data.original\n",
        "iris2_df = iris2_df.sample(frac=1, random_state=42).reset_index(drop=True)\n",
        "X2 = iris2_df[['sepal length', 'petal length']]\n",
        "y2 = [0 if label == 0 else (1 if label == 1 else 2) for label in iris2_df['class']]\n",
        "\n",
        "scaler = StandardScaler()\n",
        "X2 = scaler.fit_transform(iris2_df[['sepal length', 'petal length']])\n",
        "y2 = iris2_df['class'].values  # Directly use numeric labels\n",
        "\n",
        "# Initialize weights and bias for one neuron per class\n",
        "np.random.seed(42)\n",
        "weights = np.random.rand(3, 2) * 0.01  # 3 neurons, each with weights for two features\n",
        "biases = np.random.rand(3) * 0.01       # 3 biases for the three neurons\n",
        "\n",
        "# Training loop for One-vs-All\n",
        "learning_rate = 0.01  # Adjust learning rate\n",
        "for epoch in range(100):  # Increased epochs\n",
        "    for i in range(len(X2)):\n",
        "        # Compute output for each class (one neuron per class)\n",
        "        outputs = []\n",
        "        for c in range(3):\n",
        "            Z = weights[c][0] * X2[i][0] + weights[c][1] * X2[i][1] + biases[c]\n",
        "            output = 1 / (1 + np.exp(-Z))  # Sigmoid activation\n",
        "            outputs.append(output)\n",
        "\n",
        "        # Determine predicted class\n",
        "        probabilities = outputs / np.sum(outputs)  # Normalize outputs to probabilities\n",
        "        y_hat = np.argmax(probabilities)\n",
        "\n",
        "        # Calculate gradients and update weights and biases\n",
        "        for c in range(3):\n",
        "            grad = (1 if c == y2[i] else 0) - probabilities[c]\n",
        "            weights[c][0] += learning_rate * grad * X2[i][0]\n",
        "            weights[c][1] += learning_rate * grad * X2[i][1]\n",
        "            biases[c] += learning_rate * grad\n",
        "\n",
        "# Prediction function\n",
        "def predict(X2, weights, biases):\n",
        "    predictions = []\n",
        "    for i in range(len(X2)):\n",
        "        outputs = []\n",
        "        for c in range(3):\n",
        "            Z = weights[c][0] * X2[i][0] + weights[c][1] * X2[i][1] + biases[c]\n",
        "            output = 1 / (1 + np.exp(-Z))  # Sigmoid activation\n",
        "            outputs.append(output)\n",
        "\n",
        "        probabilities = outputs / np.sum(outputs)  # Normalize to probabilities\n",
        "        y_hat = np.argmax(probabilities)\n",
        "        predictions.append(y_hat)\n",
        "    return predictions\n",
        "\n",
        "# Class mapping\n",
        "class_names = {0: \"Iris-setosa\", 1: \"Iris-versicolor\", 2: \"Iris-virginica\"}\n",
        "\n",
        "# Making predictions\n",
        "predictions = predict(X2, weights, biases)\n",
        "\n",
        "# Display predictions with class names\n",
        "predicted_class_names = [class_names[pred] for pred in predictions]\n",
        "print(\"Predictions:\", predicted_class_names)"
      ],
      "metadata": {
        "id": "irWAEGPfCWSo",
        "outputId": "bf15d6b9-719c-4702-87ea-db02db7183e9",
        "colab": {
          "base_uri": "https://localhost:8080/"
        }
      },
      "id": "irWAEGPfCWSo",
      "execution_count": 191,
      "outputs": [
        {
          "output_type": "stream",
          "name": "stdout",
          "text": [
            "Predictions: ['Iris-setosa', 'Iris-versicolor', 'Iris-versicolor', 'Iris-setosa', 'Iris-versicolor', 'Iris-versicolor', 'Iris-setosa', 'Iris-versicolor', 'Iris-versicolor', 'Iris-setosa', 'Iris-versicolor', 'Iris-versicolor', 'Iris-versicolor', 'Iris-versicolor', 'Iris-versicolor', 'Iris-versicolor', 'Iris-setosa', 'Iris-setosa', 'Iris-setosa', 'Iris-setosa', 'Iris-setosa', 'Iris-setosa', 'Iris-versicolor', 'Iris-setosa', 'Iris-versicolor', 'Iris-versicolor', 'Iris-setosa', 'Iris-setosa', 'Iris-versicolor', 'Iris-setosa', 'Iris-versicolor', 'Iris-versicolor', 'Iris-versicolor', 'Iris-setosa', 'Iris-setosa', 'Iris-setosa', 'Iris-versicolor', 'Iris-versicolor', 'Iris-versicolor', 'Iris-versicolor', 'Iris-setosa', 'Iris-setosa', 'Iris-versicolor', 'Iris-versicolor', 'Iris-versicolor', 'Iris-setosa', 'Iris-setosa', 'Iris-setosa', 'Iris-versicolor', 'Iris-versicolor', 'Iris-setosa', 'Iris-versicolor', 'Iris-setosa', 'Iris-versicolor', 'Iris-versicolor', 'Iris-setosa', 'Iris-versicolor', 'Iris-versicolor', 'Iris-versicolor', 'Iris-setosa', 'Iris-setosa', 'Iris-setosa', 'Iris-versicolor', 'Iris-versicolor', 'Iris-setosa', 'Iris-versicolor', 'Iris-setosa', 'Iris-versicolor', 'Iris-setosa', 'Iris-versicolor', 'Iris-setosa', 'Iris-versicolor', 'Iris-setosa', 'Iris-setosa', 'Iris-versicolor', 'Iris-setosa', 'Iris-setosa', 'Iris-setosa', 'Iris-versicolor', 'Iris-setosa', 'Iris-setosa', 'Iris-versicolor', 'Iris-versicolor', 'Iris-setosa', 'Iris-versicolor', 'Iris-versicolor', 'Iris-setosa', 'Iris-versicolor', 'Iris-versicolor', 'Iris-setosa', 'Iris-setosa', 'Iris-versicolor', 'Iris-setosa', 'Iris-setosa', 'Iris-versicolor', 'Iris-setosa', 'Iris-setosa', 'Iris-setosa', 'Iris-setosa', 'Iris-versicolor', 'Iris-setosa', 'Iris-versicolor', 'Iris-setosa', 'Iris-setosa', 'Iris-setosa', 'Iris-setosa', 'Iris-versicolor', 'Iris-setosa', 'Iris-versicolor', 'Iris-setosa', 'Iris-versicolor', 'Iris-setosa', 'Iris-versicolor', 'Iris-setosa', 'Iris-versicolor', 'Iris-versicolor', 'Iris-setosa', 'Iris-setosa', 'Iris-setosa', 'Iris-setosa', 'Iris-setosa', 'Iris-setosa', 'Iris-versicolor', 'Iris-setosa', 'Iris-versicolor', 'Iris-setosa', 'Iris-versicolor', 'Iris-setosa', 'Iris-versicolor', 'Iris-setosa', 'Iris-setosa', 'Iris-versicolor', 'Iris-versicolor', 'Iris-setosa', 'Iris-versicolor', 'Iris-versicolor', 'Iris-versicolor', 'Iris-setosa', 'Iris-setosa', 'Iris-setosa', 'Iris-versicolor', 'Iris-versicolor', 'Iris-setosa', 'Iris-setosa', 'Iris-versicolor', 'Iris-versicolor', 'Iris-setosa', 'Iris-versicolor', 'Iris-setosa', 'Iris-versicolor']\n"
          ]
        }
      ]
    },
    {
      "cell_type": "code",
      "source": [
        "iris2 = fetch_ucirepo(id=53)\n",
        "iris2_df = iris2.data.original\n",
        "iris2_df = iris2_df.sample(frac=1, random_state=42).reset_index(drop=True)\n",
        "X2 = iris2_df[['sepal length', 'petal length']]\n",
        "y2= [0 if label == \"Iris-setosa\" else (1 if label == \"Iris-versicolor\" else 2) for label in iris2_df['class']]\n",
        "\n",
        "\n",
        "# Initialize weights and bias for one neuron per class\n",
        "np.random.seed(42)\n",
        "weights = np.random.rand(3, 2) * 0.01  # 3 neurons, each with weights for two features\n",
        "biases = np.random.rand(3) * 0.01       # 3 biases for the three neurons\n",
        "\n",
        "# Training loop for One-vs-All\n",
        "learning_rate = 0.001\n",
        "for epoch in range(10):\n",
        "    for i in range(len(X2)):\n",
        "        # Compute output for each class (one neuron per class)\n",
        "        outputs = []\n",
        "        for c in range(3):\n",
        "            Z = weights[c][0] * X2['sepal length'][i] + weights[c][1] * X2['petal length'][i] + biases[c]\n",
        "            output = 1 / (1 + np.exp(-Z))  # Sigmoid activation\n",
        "            outputs.append(output)\n",
        "\n",
        "        # Determine predicted class\n",
        "        probabilities = outputs / np.sum(outputs)  # Normalize outputs to probabilities\n",
        "        y_hat = np.argmax(probabilities)\n",
        "\n",
        "        # Calculate gradients and update weights and biases\n",
        "        for c in range(3):\n",
        "            grad = (1 if c == y2[i] else 0) - probabilities[c]\n",
        "            weights[c][0] += learning_rate * grad * X2['sepal length'][i]\n",
        "            weights[c][1] += learning_rate * grad * X2['petal length'][i]\n",
        "            biases[c] += learning_rate * grad\n",
        "\n",
        "    #print(f\"Epoch: {epoch}, Weights: {weights}, Biases: {biases}\")\n",
        "\n",
        "# Prediction function\n",
        "def predict(X2, weights, biases):\n",
        "    predictions = []\n",
        "    for i in range(len(X2)):\n",
        "        outputs = []\n",
        "        for c in range(3):\n",
        "            Z = weights[c][0] * X2['sepal length'][i] + weights[c][1] * X2['petal length'][i] + biases[c]\n",
        "            output = 1 / (1 + np.exp(-Z))  # Sigmoid activation\n",
        "            outputs.append(output)\n",
        "\n",
        "        probabilities = outputs / np.sum(outputs)  # Normalize to probabilities\n",
        "        y_hat = np.argmax(probabilities)\n",
        "        predictions.append(y_hat)\n",
        "    return predictions\n",
        "\n",
        "# Making predictions\n",
        "predictions = predict(X2, weights, biases)\n",
        "print(\"Predictions:\", predictions)\n"
      ],
      "metadata": {
        "id": "Ai5ZuuUyHhGO",
        "outputId": "f9461bba-4740-4041-fc70-e00a63322470",
        "colab": {
          "base_uri": "https://localhost:8080/"
        }
      },
      "id": "Ai5ZuuUyHhGO",
      "execution_count": 188,
      "outputs": [
        {
          "output_type": "stream",
          "name": "stdout",
          "text": [
            "Predictions: [2, 0, 2, 2, 2, 0, 2, 2, 2, 2, 2, 0, 0, 0, 0, 2, 2, 2, 2, 2, 0, 2, 0, 2, 2, 2, 2, 2, 0, 0, 0, 0, 2, 0, 0, 2, 2, 0, 0, 0, 2, 2, 2, 0, 0, 2, 2, 2, 2, 2, 2, 2, 2, 0, 2, 2, 0, 0, 0, 2, 2, 0, 0, 0, 2, 0, 2, 2, 0, 2, 2, 0, 2, 2, 2, 2, 2, 2, 0, 2, 2, 0, 0, 2, 2, 0, 2, 0, 0, 2, 2, 2, 2, 2, 2, 2, 0, 0, 2, 2, 0, 0, 0, 2, 2, 0, 2, 2, 0, 2, 2, 2, 2, 2, 0, 2, 2, 2, 2, 2, 2, 0, 2, 2, 0, 2, 2, 2, 0, 2, 2, 2, 0, 2, 0, 2, 2, 2, 2, 2, 2, 2, 2, 2, 0, 2, 2, 0, 2, 2]\n"
          ]
        }
      ]
    },
    {
      "cell_type": "code",
      "source": [],
      "metadata": {
        "id": "OQuzwfxKIGGJ"
      },
      "id": "OQuzwfxKIGGJ",
      "execution_count": null,
      "outputs": []
    }
  ],
  "metadata": {
    "kernelspec": {
      "display_name": "Python 3 (ipykernel)",
      "language": "python",
      "name": "python3"
    },
    "language_info": {
      "codemirror_mode": {
        "name": "ipython",
        "version": 3
      },
      "file_extension": ".py",
      "mimetype": "text/x-python",
      "name": "python",
      "nbconvert_exporter": "python",
      "pygments_lexer": "ipython3",
      "version": "3.13.0"
    },
    "colab": {
      "provenance": []
    }
  },
  "nbformat": 4,
  "nbformat_minor": 5
}
